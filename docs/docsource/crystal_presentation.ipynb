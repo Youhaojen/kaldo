{
  "nbformat": 4,
  "nbformat_minor": 0,
  "metadata": {
    "colab": {
      "provenance": [],
      "collapsed_sections": []
    },
    "kernelspec": {
      "name": "python3",
      "display_name": "Python 3"
    },
    "language_info": {
      "name": "python"
    },
    "accelerator": "GPU",
    "gpuClass": "standard"
  },
  "cells": [
    {
      "cell_type": "markdown",
      "source": [
        "\n",
        "In Colab, you can enable the GPU acceleration from `Edit` > `Notebook Settings` > `Accelerator` > `GPU`."
      ],
      "metadata": {
        "id": "XBeaBnL82NOM"
      }
    },
    {
      "cell_type": "markdown",
      "source": [
        "# Silicon diamond tutorial\n",
        "\n",
        "## Complie [LAMMPS](https://github.com/lammps/lammps) as shared-library of python ($\\sim$ 8 min)"
      ],
      "metadata": {
        "id": "wW4-RGLk2QbJ"
      }
    },
    {
      "cell_type": "code",
      "source": [
        "# Sudo apt-get softwares\n",
        "! apt-get update\n",
        "! apt install -y cmake build-essential git ccache openmpi-bin libopenmpi-dev python3.7-venv\n",
        "! echo \"Sudo apt-get finishes!\"\n",
        "\n",
        "# Upgrade python packages\n",
        "! pip install --upgrade pip\n",
        "! pip install numpy torch scipy virtualenv psutil pandas tabulate mpi4py Cython sklearn\n",
        "! echo \"Python packages installation finishes!\"\n",
        "\n",
        "# Build lammps with cmake\n",
        "%cd /content\n",
        "!rm -rf lammps\n",
        "! git clone https://github.com/lammps/lammps.git lammps\n",
        "%cd /content/lammps\n",
        "! rm -rf build\n",
        "! mkdir build\n",
        "%cd build\n",
        "! cmake ../cmake -DLAMMPS_EXCEPTIONS=yes \\\n",
        "               -DBUILD_SHARED_LIBS=yes \\\n",
        "               -DMLIAP_ENABLE_PYTHON=yes \\\n",
        "               -DPKG_PYTHON=yes \\\n",
        "               -DPKG_MANYBODY=yes \\\n",
        "               -DPKG_KSPACE=yes \\\n",
        "               -DPKG_PHONON=yes \\\n",
        "               -DPYTHON_EXECUTABLE:FILEPATH=`which python`\n",
        "\n",
        "# Complie lammps as share-libary of python\n",
        "! make -j 2\n",
        "! make install-python\n",
        "! echo \"LAMMPS compilation done!\"\n",
        "\n",
        "# Redirect back to main folder\n",
        "%cd /content/"
      ],
      "metadata": {
        "id": "OIAXE-KV6BF8"
      },
      "execution_count": null,
      "outputs": []
    },
    {
      "cell_type": "markdown",
      "source": [
        "## Remote fetch  and install source code from Github"
      ],
      "metadata": {
        "id": "xDuRPLMA5msm"
      }
    },
    {
      "cell_type": "code",
      "execution_count": null,
      "metadata": {
        "id": "6G-DsQwX1nl4"
      },
      "outputs": [],
      "source": [
        "! pip install git+https://github.com/nanotheorygroup/kaldo"
      ]
    },
    {
      "cell_type": "markdown",
      "source": [
        "## Remote fetch supplyment files\n"
      ],
      "metadata": {
        "id": "T2lEjnRw2dcB"
      }
    },
    {
      "cell_type": "code",
      "source": [
        "# Remote fetch kaldo resources from drop box\n",
        "! wget https://www.dropbox.com/s/bvw0qcxy397g25q/kaldo_resources.zip?dl=0\n",
        "! mv kaldo_resources.zip?dl=0 kaldo_resources.zip\n",
        "! unzip kaldo_resources.zip\n",
        "\n",
        "# Unzip files\n",
        "!unzip forcefields.zip\n",
        "\n",
        "# Clean workspace\n",
        "! rm -r forcefields.zip\n",
        "! rm -r structure_a_si_512.zip\n",
        "! rm -r kaldo_resources.zip\n",
        "! rm -r sample_data"
      ],
      "metadata": {
        "id": "yddHjxOy2dv5"
      },
      "execution_count": null,
      "outputs": []
    },
    {
      "cell_type": "markdown",
      "source": [
        "## Thermal transport simulation for silicon-bulk"
      ],
      "metadata": {
        "id": "nvL1t2Wt5e4X"
      }
    },
    {
      "cell_type": "code",
      "source": [
        "from ase.build import bulk\n",
        "from ase.calculators.lammpslib import LAMMPSlib\n",
        "from kaldo.forceconstants import ForceConstants\n",
        "import numpy as np\n",
        "\n",
        "# We start from the atoms object\n",
        "atoms = bulk('Si', 'diamond', a=5.432)\n",
        "\n",
        "# Config super cell and calculator input\n",
        "supercell = np.array([3, 3, 3])\n",
        "lammps_inputs = {\n",
        "      'lmpcmds': [\n",
        "          'pair_style tersoff',\n",
        "          'pair_coeff * * forcefields/Si.tersoff Si'],\n",
        "\n",
        "      'log_file': 'lammps-si-bulk.log',\n",
        "      'keep_alive':True}\n",
        "\n",
        "# Create a finite difference object\n",
        "forceconstants_config  = {'atoms':atoms,'supercell': supercell,'folder':'fd'}\n",
        "forceconstants = ForceConstants(**forceconstants_config)\n",
        "\n",
        "# Compute 2nd and 3rd IFCs with the defined calculators\n",
        "forceconstants.second.calculate(LAMMPSlib(**lammps_inputs), delta_shift=1e-3)\n",
        "forceconstants.third.calculate(LAMMPSlib(**lammps_inputs), delta_shift=1e-3)"
      ],
      "metadata": {
        "id": "hXkcBeU5_QwG"
      },
      "execution_count": null,
      "outputs": []
    },
    {
      "cell_type": "markdown",
      "source": [
        "### Create phonons object\n"
      ],
      "metadata": {
        "id": "eqTobAF_CB-m"
      }
    },
    {
      "cell_type": "code",
      "source": [
        "from kaldo.phonons import Phonons\n",
        "\n",
        "# Define k-point grids, temperature\n",
        "# and the assumption for the \n",
        "# phonon poluation (i.e classical vs. quantum)\n",
        "k = 7\n",
        "kpts = [k, k, k]\n",
        "temperature = 300\n",
        "is_classic = False\n",
        "k_label = str(k) + '_' + str(k) + '_' + str(k)\n",
        "\n",
        "# Create a phonon object\n",
        "phonons = Phonons(forceconstants=forceconstants,\n",
        "                kpts=kpts,\n",
        "                is_classic=is_classic,\n",
        "                temperature=temperature,\n",
        "                folder='si-bulk-ald-' + k_label,\n",
        "                storage='numpy')"
      ],
      "metadata": {
        "id": "UYwM7PVXCEa0"
      },
      "execution_count": 7,
      "outputs": []
    },
    {
      "cell_type": "markdown",
      "source": [
        "### Calculate conductivities for infinite-size sample\n"
      ],
      "metadata": {
        "id": "MLZRdZRwCIG0"
      }
    },
    {
      "cell_type": "code",
      "source": [
        "from kaldo.conductivity import Conductivity\n",
        "\n",
        "# Calculate conductivity  with direct inversion approach (inverse)\n",
        "print('\\n')\n",
        "inv_cond_matrix = (Conductivity(phonons=phonons, method='inverse').conductivity.sum(axis=0))\n",
        "print('Inverse conductivity (W/mK): %.3f'%(np.mean(np.diag(inv_cond_matrix))))\n",
        "print(inv_cond_matrix)\n",
        "\n",
        "# Calculate conductivity  with  relaxation time approximation (rta)\n",
        "print('\\n')\n",
        "rta_cond_matrix = Conductivity(phonons=phonons, method='rta').conductivity.sum(axis=0)\n",
        "print('Rta conductivity (W/mK): %.3f'%(np.mean(np.diag(rta_cond_matrix))))\n",
        "print(rta_cond_matrix)\n",
        "# Calculate conductivity  with  self-consistent approach (sc)\n",
        "\n",
        "print('\\n')\n",
        "sc_cond_matrix = Conductivity(phonons=phonons, method='sc',n_iterations=20).conductivity.sum(axis=0)\n",
        "print('Self-consistent conductivity (W/mK): %.3f'%(np.mean(np.diag(sc_cond_matrix))))\n",
        "print(sc_cond_matrix)"
      ],
      "metadata": {
        "colab": {
          "base_uri": "https://localhost:8080/"
        },
        "id": "QWs_1LgICIUd",
        "outputId": "d3459800-f6bb-4ce7-b5df-a2fd0d225181"
      },
      "execution_count": 8,
      "outputs": [
        {
          "output_type": "stream",
          "name": "stdout",
          "text": [
            "\n",
            "\n",
            "2022-10-29 04:56:58,186 - kaldo - INFO - si-bulk-ald-7_7_7/7_7_7/300/quantum/inverse/conductivity not found in formatted format, calculating conductivity\n"
          ]
        },
        {
          "output_type": "stream",
          "name": "stderr",
          "text": [
            "INFO:kaldo:si-bulk-ald-7_7_7/7_7_7/300/quantum/inverse/conductivity not found in formatted format, calculating conductivity\n"
          ]
        },
        {
          "output_type": "stream",
          "name": "stdout",
          "text": [
            "2022-10-29 04:56:58,193 - kaldo - INFO - si-bulk-ald-7_7_7/7_7_7/300/quantum/inverse/mean_free_path not found in formatted format, calculating mean_free_path\n"
          ]
        },
        {
          "output_type": "stream",
          "name": "stderr",
          "text": [
            "INFO:kaldo:si-bulk-ald-7_7_7/7_7_7/300/quantum/inverse/mean_free_path not found in formatted format, calculating mean_free_path\n"
          ]
        },
        {
          "output_type": "stream",
          "name": "stdout",
          "text": [
            "2022-10-29 04:56:58,198 - kaldo - INFO - si-bulk-ald-7_7_7/7_7_7/physical_mode not found in numpy format, calculating physical_mode\n"
          ]
        },
        {
          "output_type": "stream",
          "name": "stderr",
          "text": [
            "INFO:kaldo:si-bulk-ald-7_7_7/7_7_7/physical_mode not found in numpy format, calculating physical_mode\n"
          ]
        },
        {
          "output_type": "stream",
          "name": "stdout",
          "text": [
            "2022-10-29 04:56:58,215 - kaldo - INFO - si-bulk-ald-7_7_7/7_7_7/frequency not found in numpy format, calculating frequency\n"
          ]
        },
        {
          "output_type": "stream",
          "name": "stderr",
          "text": [
            "INFO:kaldo:si-bulk-ald-7_7_7/7_7_7/frequency not found in numpy format, calculating frequency\n"
          ]
        },
        {
          "output_type": "stream",
          "name": "stdout",
          "text": [
            "2022-10-29 04:57:04,716 - kaldo - INFO - si-bulk-ald-7_7_7/7_7_7/frequency stored\n"
          ]
        },
        {
          "output_type": "stream",
          "name": "stderr",
          "text": [
            "INFO:kaldo:si-bulk-ald-7_7_7/7_7_7/frequency stored\n"
          ]
        },
        {
          "output_type": "stream",
          "name": "stdout",
          "text": [
            "2022-10-29 04:57:04,722 - kaldo - INFO - si-bulk-ald-7_7_7/7_7_7/physical_mode stored\n"
          ]
        },
        {
          "output_type": "stream",
          "name": "stderr",
          "text": [
            "INFO:kaldo:si-bulk-ald-7_7_7/7_7_7/physical_mode stored\n"
          ]
        },
        {
          "output_type": "stream",
          "name": "stdout",
          "text": [
            "2022-10-29 04:57:04,730 - kaldo - INFO - si-bulk-ald-7_7_7/7_7_7/velocity not found in numpy format, calculating velocity\n"
          ]
        },
        {
          "output_type": "stream",
          "name": "stderr",
          "text": [
            "INFO:kaldo:si-bulk-ald-7_7_7/7_7_7/velocity not found in numpy format, calculating velocity\n",
            "/usr/local/lib/python3.7/dist-packages/kaldo/observables/harmonic_with_q.py:214: RuntimeWarning: invalid value encountered in sqrt\n",
            "  inverse_sqrt_freq = tf.cast(tf.convert_to_tensor(1 / np.sqrt(frequency)), tf.complex128)\n"
          ]
        },
        {
          "output_type": "stream",
          "name": "stdout",
          "text": [
            "2022-10-29 04:57:10,992 - kaldo - INFO - si-bulk-ald-7_7_7/7_7_7/velocity stored\n"
          ]
        },
        {
          "output_type": "stream",
          "name": "stderr",
          "text": [
            "INFO:kaldo:si-bulk-ald-7_7_7/7_7_7/velocity stored\n"
          ]
        },
        {
          "output_type": "stream",
          "name": "stdout",
          "text": [
            "2022-10-29 04:57:10,998 - kaldo - INFO - Loading si-bulk-ald-7_7_7/7_7_7/physical_mode\n"
          ]
        },
        {
          "output_type": "stream",
          "name": "stderr",
          "text": [
            "INFO:kaldo:Loading si-bulk-ald-7_7_7/7_7_7/physical_mode\n"
          ]
        },
        {
          "output_type": "stream",
          "name": "stdout",
          "text": [
            "2022-10-29 04:57:11,002 - kaldo - INFO - Loading si-bulk-ald-7_7_7/7_7_7/frequency\n"
          ]
        },
        {
          "output_type": "stream",
          "name": "stderr",
          "text": [
            "INFO:kaldo:Loading si-bulk-ald-7_7_7/7_7_7/frequency\n"
          ]
        },
        {
          "output_type": "stream",
          "name": "stdout",
          "text": [
            "2022-10-29 04:57:11,005 - kaldo - INFO - si-bulk-ald-7_7_7/7_7_7/300/quantum/_ps_gamma_and_gamma_tensor not found in numpy format, calculating _ps_gamma_and_gamma_tensor\n"
          ]
        },
        {
          "output_type": "stream",
          "name": "stderr",
          "text": [
            "INFO:kaldo:si-bulk-ald-7_7_7/7_7_7/300/quantum/_ps_gamma_and_gamma_tensor not found in numpy format, calculating _ps_gamma_and_gamma_tensor\n"
          ]
        },
        {
          "output_type": "stream",
          "name": "stdout",
          "text": [
            "2022-10-29 04:57:11,057 - kaldo - INFO - si-bulk-ald-7_7_7/7_7_7/_eigensystem not found in numpy format, calculating _eigensystem\n"
          ]
        },
        {
          "output_type": "stream",
          "name": "stderr",
          "text": [
            "INFO:kaldo:si-bulk-ald-7_7_7/7_7_7/_eigensystem not found in numpy format, calculating _eigensystem\n"
          ]
        },
        {
          "output_type": "stream",
          "name": "stdout",
          "text": [
            "2022-10-29 04:57:12,066 - kaldo - INFO - si-bulk-ald-7_7_7/7_7_7/_eigensystem stored\n"
          ]
        },
        {
          "output_type": "stream",
          "name": "stderr",
          "text": [
            "INFO:kaldo:si-bulk-ald-7_7_7/7_7_7/_eigensystem stored\n"
          ]
        },
        {
          "output_type": "stream",
          "name": "stdout",
          "text": [
            "2022-10-29 04:57:12,077 - kaldo - INFO - scattering_tensor: [2058 2060] * <class 'float'>\n"
          ]
        },
        {
          "output_type": "stream",
          "name": "stderr",
          "text": [
            "INFO:kaldo:scattering_tensor: [2058 2060] * <class 'float'>\n"
          ]
        },
        {
          "output_type": "stream",
          "name": "stdout",
          "text": [
            "2022-10-29 04:57:12,081 - kaldo - INFO - Memory needed: 33 MB, available: 11284 / 13616 MB\n"
          ]
        },
        {
          "output_type": "stream",
          "name": "stderr",
          "text": [
            "INFO:kaldo:Memory needed: 33 MB, available: 11284 / 13616 MB\n"
          ]
        },
        {
          "output_type": "stream",
          "name": "stdout",
          "text": [
            "2022-10-29 04:57:12,107 - kaldo - INFO - Projection started\n"
          ]
        },
        {
          "output_type": "stream",
          "name": "stderr",
          "text": [
            "INFO:kaldo:Projection started\n"
          ]
        },
        {
          "output_type": "stream",
          "name": "stdout",
          "text": [
            "2022-10-29 04:57:12,111 - kaldo - INFO - si-bulk-ald-7_7_7/7_7_7/300/quantum/population not found in numpy format, calculating population\n"
          ]
        },
        {
          "output_type": "stream",
          "name": "stderr",
          "text": [
            "INFO:kaldo:si-bulk-ald-7_7_7/7_7_7/300/quantum/population not found in numpy format, calculating population\n"
          ]
        },
        {
          "output_type": "stream",
          "name": "stdout",
          "text": [
            "2022-10-29 04:57:12,831 - kaldo - INFO - si-bulk-ald-7_7_7/7_7_7/300/quantum/population stored\n"
          ]
        },
        {
          "output_type": "stream",
          "name": "stderr",
          "text": [
            "INFO:kaldo:si-bulk-ald-7_7_7/7_7_7/300/quantum/population stored\n"
          ]
        },
        {
          "output_type": "stream",
          "name": "stdout",
          "text": [
            "2022-10-29 04:57:12,839 - kaldo - INFO - Loading si-bulk-ald-7_7_7/7_7_7/physical_mode\n"
          ]
        },
        {
          "output_type": "stream",
          "name": "stderr",
          "text": [
            "INFO:kaldo:Loading si-bulk-ald-7_7_7/7_7_7/physical_mode\n"
          ]
        },
        {
          "output_type": "stream",
          "name": "stdout",
          "text": [
            "2022-10-29 04:57:12,845 - kaldo - INFO - Loading si-bulk-ald-7_7_7/7_7_7/frequency\n"
          ]
        },
        {
          "output_type": "stream",
          "name": "stderr",
          "text": [
            "INFO:kaldo:Loading si-bulk-ald-7_7_7/7_7_7/frequency\n"
          ]
        },
        {
          "output_type": "stream",
          "name": "stdout",
          "text": [
            "2022-10-29 04:57:12,852 - kaldo - INFO - Loading si-bulk-ald-7_7_7/7_7_7/velocity\n"
          ]
        },
        {
          "output_type": "stream",
          "name": "stderr",
          "text": [
            "INFO:kaldo:Loading si-bulk-ald-7_7_7/7_7_7/velocity\n"
          ]
        },
        {
          "output_type": "stream",
          "name": "stdout",
          "text": [
            "2022-10-29 04:57:12,858 - kaldo - INFO - Calculating third order projection 0, 0.0%\n"
          ]
        },
        {
          "output_type": "stream",
          "name": "stderr",
          "text": [
            "INFO:kaldo:Calculating third order projection 0, 0.0%\n"
          ]
        },
        {
          "output_type": "stream",
          "name": "stdout",
          "text": [
            "2022-10-29 04:57:19,786 - kaldo - INFO - Calculating third order projection 200, 10.0%\n"
          ]
        },
        {
          "output_type": "stream",
          "name": "stderr",
          "text": [
            "INFO:kaldo:Calculating third order projection 200, 10.0%\n"
          ]
        },
        {
          "output_type": "stream",
          "name": "stdout",
          "text": [
            "2022-10-29 04:57:26,854 - kaldo - INFO - Calculating third order projection 400, 19.0%\n"
          ]
        },
        {
          "output_type": "stream",
          "name": "stderr",
          "text": [
            "INFO:kaldo:Calculating third order projection 400, 19.0%\n"
          ]
        },
        {
          "output_type": "stream",
          "name": "stdout",
          "text": [
            "2022-10-29 04:57:33,967 - kaldo - INFO - Calculating third order projection 600, 28.999999999999996%\n"
          ]
        },
        {
          "output_type": "stream",
          "name": "stderr",
          "text": [
            "INFO:kaldo:Calculating third order projection 600, 28.999999999999996%\n"
          ]
        },
        {
          "output_type": "stream",
          "name": "stdout",
          "text": [
            "2022-10-29 04:57:41,046 - kaldo - INFO - Calculating third order projection 800, 39.0%\n"
          ]
        },
        {
          "output_type": "stream",
          "name": "stderr",
          "text": [
            "INFO:kaldo:Calculating third order projection 800, 39.0%\n"
          ]
        },
        {
          "output_type": "stream",
          "name": "stdout",
          "text": [
            "2022-10-29 04:57:48,185 - kaldo - INFO - Calculating third order projection 1000, 49.0%\n"
          ]
        },
        {
          "output_type": "stream",
          "name": "stderr",
          "text": [
            "INFO:kaldo:Calculating third order projection 1000, 49.0%\n"
          ]
        },
        {
          "output_type": "stream",
          "name": "stdout",
          "text": [
            "2022-10-29 04:57:55,277 - kaldo - INFO - Calculating third order projection 1200, 57.99999999999999%\n"
          ]
        },
        {
          "output_type": "stream",
          "name": "stderr",
          "text": [
            "INFO:kaldo:Calculating third order projection 1200, 57.99999999999999%\n"
          ]
        },
        {
          "output_type": "stream",
          "name": "stdout",
          "text": [
            "2022-10-29 04:58:02,371 - kaldo - INFO - Calculating third order projection 1400, 68.0%\n"
          ]
        },
        {
          "output_type": "stream",
          "name": "stderr",
          "text": [
            "INFO:kaldo:Calculating third order projection 1400, 68.0%\n"
          ]
        },
        {
          "output_type": "stream",
          "name": "stdout",
          "text": [
            "2022-10-29 04:58:09,453 - kaldo - INFO - Calculating third order projection 1600, 78.0%\n"
          ]
        },
        {
          "output_type": "stream",
          "name": "stderr",
          "text": [
            "INFO:kaldo:Calculating third order projection 1600, 78.0%\n"
          ]
        },
        {
          "output_type": "stream",
          "name": "stdout",
          "text": [
            "2022-10-29 04:58:16,918 - kaldo - INFO - Calculating third order projection 1800, 87.0%\n"
          ]
        },
        {
          "output_type": "stream",
          "name": "stderr",
          "text": [
            "INFO:kaldo:Calculating third order projection 1800, 87.0%\n"
          ]
        },
        {
          "output_type": "stream",
          "name": "stdout",
          "text": [
            "2022-10-29 04:58:24,364 - kaldo - INFO - Calculating third order projection 2000, 97.0%\n"
          ]
        },
        {
          "output_type": "stream",
          "name": "stderr",
          "text": [
            "INFO:kaldo:Calculating third order projection 2000, 97.0%\n"
          ]
        },
        {
          "output_type": "stream",
          "name": "stdout",
          "text": [
            "2022-10-29 04:58:26,434 - kaldo - INFO - 'project_crystal'  75.42 s\n"
          ]
        },
        {
          "output_type": "stream",
          "name": "stderr",
          "text": [
            "INFO:kaldo:'project_crystal'  75.42 s\n"
          ]
        },
        {
          "output_type": "stream",
          "name": "stdout",
          "text": [
            "2022-10-29 04:58:26,476 - kaldo - INFO - si-bulk-ald-7_7_7/7_7_7/300/quantum/_ps_gamma_and_gamma_tensor stored\n"
          ]
        },
        {
          "output_type": "stream",
          "name": "stderr",
          "text": [
            "INFO:kaldo:si-bulk-ald-7_7_7/7_7_7/300/quantum/_ps_gamma_and_gamma_tensor stored\n"
          ]
        },
        {
          "output_type": "stream",
          "name": "stdout",
          "text": [
            "2022-10-29 04:58:26,519 - kaldo - INFO - _scattering_matrix: [2055 2055] * <class 'float'>\n"
          ]
        },
        {
          "output_type": "stream",
          "name": "stderr",
          "text": [
            "INFO:kaldo:_scattering_matrix: [2055 2055] * <class 'float'>\n"
          ]
        },
        {
          "output_type": "stream",
          "name": "stdout",
          "text": [
            "2022-10-29 04:58:26,526 - kaldo - INFO - Memory needed: 33 MB, available: 11242 / 13616 MB\n"
          ]
        },
        {
          "output_type": "stream",
          "name": "stderr",
          "text": [
            "INFO:kaldo:Memory needed: 33 MB, available: 11242 / 13616 MB\n"
          ]
        },
        {
          "output_type": "stream",
          "name": "stdout",
          "text": [
            "2022-10-29 04:58:26,629 - kaldo - INFO - si-bulk-ald-7_7_7/7_7_7/300/quantum/bandwidth not found in numpy format, calculating bandwidth\n"
          ]
        },
        {
          "output_type": "stream",
          "name": "stderr",
          "text": [
            "INFO:kaldo:si-bulk-ald-7_7_7/7_7_7/300/quantum/bandwidth not found in numpy format, calculating bandwidth\n"
          ]
        },
        {
          "output_type": "stream",
          "name": "stdout",
          "text": [
            "2022-10-29 04:58:26,636 - kaldo - INFO - si-bulk-ald-7_7_7/7_7_7/300/quantum/_ps_and_gamma not found in numpy format, calculating _ps_and_gamma\n"
          ]
        },
        {
          "output_type": "stream",
          "name": "stderr",
          "text": [
            "INFO:kaldo:si-bulk-ald-7_7_7/7_7_7/300/quantum/_ps_and_gamma not found in numpy format, calculating _ps_and_gamma\n"
          ]
        },
        {
          "output_type": "stream",
          "name": "stdout",
          "text": [
            "2022-10-29 04:58:26,665 - kaldo - INFO - Loading si-bulk-ald-7_7_7/7_7_7/300/quantum/_ps_gamma_and_gamma_tensor\n"
          ]
        },
        {
          "output_type": "stream",
          "name": "stderr",
          "text": [
            "INFO:kaldo:Loading si-bulk-ald-7_7_7/7_7_7/300/quantum/_ps_gamma_and_gamma_tensor\n"
          ]
        },
        {
          "output_type": "stream",
          "name": "stdout",
          "text": [
            "2022-10-29 04:58:26,671 - kaldo - INFO - si-bulk-ald-7_7_7/7_7_7/300/quantum/_ps_and_gamma stored\n"
          ]
        },
        {
          "output_type": "stream",
          "name": "stderr",
          "text": [
            "INFO:kaldo:si-bulk-ald-7_7_7/7_7_7/300/quantum/_ps_and_gamma stored\n"
          ]
        },
        {
          "output_type": "stream",
          "name": "stdout",
          "text": [
            "2022-10-29 04:58:26,683 - kaldo - INFO - si-bulk-ald-7_7_7/7_7_7/300/quantum/bandwidth stored\n"
          ]
        },
        {
          "output_type": "stream",
          "name": "stderr",
          "text": [
            "INFO:kaldo:si-bulk-ald-7_7_7/7_7_7/300/quantum/bandwidth stored\n"
          ]
        },
        {
          "output_type": "stream",
          "name": "stdout",
          "text": [
            "2022-10-29 04:58:27,509 - kaldo - INFO - Loading si-bulk-ald-7_7_7/7_7_7/physical_mode\n"
          ]
        },
        {
          "output_type": "stream",
          "name": "stderr",
          "text": [
            "INFO:kaldo:Loading si-bulk-ald-7_7_7/7_7_7/physical_mode\n"
          ]
        },
        {
          "output_type": "stream",
          "name": "stdout",
          "text": [
            "2022-10-29 04:58:27,523 - kaldo - INFO - Loading si-bulk-ald-7_7_7/7_7_7/frequency\n"
          ]
        },
        {
          "output_type": "stream",
          "name": "stderr",
          "text": [
            "INFO:kaldo:Loading si-bulk-ald-7_7_7/7_7_7/frequency\n"
          ]
        },
        {
          "output_type": "stream",
          "name": "stdout",
          "text": [
            "2022-10-29 04:58:27,542 - kaldo - INFO - Loading si-bulk-ald-7_7_7/7_7_7/300/quantum/_ps_gamma_and_gamma_tensor\n"
          ]
        },
        {
          "output_type": "stream",
          "name": "stderr",
          "text": [
            "INFO:kaldo:Loading si-bulk-ald-7_7_7/7_7_7/300/quantum/_ps_gamma_and_gamma_tensor\n"
          ]
        },
        {
          "output_type": "stream",
          "name": "stdout",
          "text": [
            "2022-10-29 04:58:27,562 - kaldo - INFO - _scattering_matrix: [2055 2055] * <class 'float'>\n"
          ]
        },
        {
          "output_type": "stream",
          "name": "stderr",
          "text": [
            "INFO:kaldo:_scattering_matrix: [2055 2055] * <class 'float'>\n"
          ]
        },
        {
          "output_type": "stream",
          "name": "stdout",
          "text": [
            "2022-10-29 04:58:27,564 - kaldo - INFO - Memory needed: 33 MB, available: 11234 / 13616 MB\n"
          ]
        },
        {
          "output_type": "stream",
          "name": "stderr",
          "text": [
            "INFO:kaldo:Memory needed: 33 MB, available: 11234 / 13616 MB\n"
          ]
        },
        {
          "output_type": "stream",
          "name": "stdout",
          "text": [
            "2022-10-29 04:58:27,640 - kaldo - INFO - Loading si-bulk-ald-7_7_7/7_7_7/300/quantum/bandwidth\n"
          ]
        },
        {
          "output_type": "stream",
          "name": "stderr",
          "text": [
            "INFO:kaldo:Loading si-bulk-ald-7_7_7/7_7_7/300/quantum/bandwidth\n"
          ]
        },
        {
          "output_type": "stream",
          "name": "stdout",
          "text": [
            "2022-10-29 04:58:28,407 - kaldo - INFO - Loading si-bulk-ald-7_7_7/7_7_7/physical_mode\n"
          ]
        },
        {
          "output_type": "stream",
          "name": "stderr",
          "text": [
            "INFO:kaldo:Loading si-bulk-ald-7_7_7/7_7_7/physical_mode\n"
          ]
        },
        {
          "output_type": "stream",
          "name": "stdout",
          "text": [
            "2022-10-29 04:58:28,411 - kaldo - INFO - Loading si-bulk-ald-7_7_7/7_7_7/frequency\n"
          ]
        },
        {
          "output_type": "stream",
          "name": "stderr",
          "text": [
            "INFO:kaldo:Loading si-bulk-ald-7_7_7/7_7_7/frequency\n"
          ]
        },
        {
          "output_type": "stream",
          "name": "stdout",
          "text": [
            "2022-10-29 04:58:28,434 - kaldo - INFO - Loading si-bulk-ald-7_7_7/7_7_7/300/quantum/_ps_gamma_and_gamma_tensor\n"
          ]
        },
        {
          "output_type": "stream",
          "name": "stderr",
          "text": [
            "INFO:kaldo:Loading si-bulk-ald-7_7_7/7_7_7/300/quantum/_ps_gamma_and_gamma_tensor\n"
          ]
        },
        {
          "output_type": "stream",
          "name": "stdout",
          "text": [
            "2022-10-29 04:58:28,453 - kaldo - INFO - _scattering_matrix: [2055 2055] * <class 'float'>\n"
          ]
        },
        {
          "output_type": "stream",
          "name": "stderr",
          "text": [
            "INFO:kaldo:_scattering_matrix: [2055 2055] * <class 'float'>\n"
          ]
        },
        {
          "output_type": "stream",
          "name": "stdout",
          "text": [
            "2022-10-29 04:58:28,463 - kaldo - INFO - Memory needed: 33 MB, available: 11234 / 13616 MB\n"
          ]
        },
        {
          "output_type": "stream",
          "name": "stderr",
          "text": [
            "INFO:kaldo:Memory needed: 33 MB, available: 11234 / 13616 MB\n"
          ]
        },
        {
          "output_type": "stream",
          "name": "stdout",
          "text": [
            "2022-10-29 04:58:28,519 - kaldo - INFO - Loading si-bulk-ald-7_7_7/7_7_7/300/quantum/bandwidth\n"
          ]
        },
        {
          "output_type": "stream",
          "name": "stderr",
          "text": [
            "INFO:kaldo:Loading si-bulk-ald-7_7_7/7_7_7/300/quantum/bandwidth\n"
          ]
        },
        {
          "output_type": "stream",
          "name": "stdout",
          "text": [
            "2022-10-29 04:58:29,326 - kaldo - INFO - si-bulk-ald-7_7_7/7_7_7/300/quantum/heat_capacity not found in numpy format, calculating heat_capacity\n"
          ]
        },
        {
          "output_type": "stream",
          "name": "stderr",
          "text": [
            "INFO:kaldo:si-bulk-ald-7_7_7/7_7_7/300/quantum/heat_capacity not found in numpy format, calculating heat_capacity\n"
          ]
        },
        {
          "output_type": "stream",
          "name": "stdout",
          "text": [
            "2022-10-29 04:58:30,087 - kaldo - INFO - si-bulk-ald-7_7_7/7_7_7/300/quantum/heat_capacity stored\n"
          ]
        },
        {
          "output_type": "stream",
          "name": "stderr",
          "text": [
            "INFO:kaldo:si-bulk-ald-7_7_7/7_7_7/300/quantum/heat_capacity stored\n"
          ]
        },
        {
          "output_type": "stream",
          "name": "stdout",
          "text": [
            "2022-10-29 04:58:30,093 - kaldo - INFO - Loading si-bulk-ald-7_7_7/7_7_7/velocity\n"
          ]
        },
        {
          "output_type": "stream",
          "name": "stderr",
          "text": [
            "INFO:kaldo:Loading si-bulk-ald-7_7_7/7_7_7/velocity\n"
          ]
        },
        {
          "output_type": "stream",
          "name": "stdout",
          "text": [
            "2022-10-29 04:58:30,100 - kaldo - INFO - Loading si-bulk-ald-7_7_7/7_7_7/physical_mode\n"
          ]
        },
        {
          "output_type": "stream",
          "name": "stderr",
          "text": [
            "INFO:kaldo:Loading si-bulk-ald-7_7_7/7_7_7/physical_mode\n"
          ]
        },
        {
          "output_type": "stream",
          "name": "stdout",
          "text": [
            "2022-10-29 04:58:30,108 - kaldo - INFO - Conductivity calculated\n"
          ]
        },
        {
          "output_type": "stream",
          "name": "stderr",
          "text": [
            "INFO:kaldo:Conductivity calculated\n"
          ]
        },
        {
          "output_type": "stream",
          "name": "stdout",
          "text": [
            "Inverse conductivity (W/mK): 290.827\n",
            "[[292.42153862   4.57165775  -0.53825504]\n",
            " [  4.66520595 289.25386952  -0.52648865]\n",
            " [ -0.52326161  -0.46772834 290.80473205]]\n",
            "\n",
            "\n",
            "2022-10-29 04:58:30,167 - kaldo - INFO - si-bulk-ald-7_7_7/7_7_7/300/quantum/rta/conductivity not found in formatted format, calculating conductivity\n"
          ]
        },
        {
          "output_type": "stream",
          "name": "stderr",
          "text": [
            "INFO:kaldo:si-bulk-ald-7_7_7/7_7_7/300/quantum/rta/conductivity not found in formatted format, calculating conductivity\n"
          ]
        },
        {
          "output_type": "stream",
          "name": "stdout",
          "text": [
            "2022-10-29 04:58:30,175 - kaldo - INFO - si-bulk-ald-7_7_7/7_7_7/300/quantum/rta/mean_free_path not found in formatted format, calculating mean_free_path\n"
          ]
        },
        {
          "output_type": "stream",
          "name": "stderr",
          "text": [
            "INFO:kaldo:si-bulk-ald-7_7_7/7_7_7/300/quantum/rta/mean_free_path not found in formatted format, calculating mean_free_path\n"
          ]
        },
        {
          "output_type": "stream",
          "name": "stdout",
          "text": [
            "2022-10-29 04:58:30,182 - kaldo - INFO - Loading si-bulk-ald-7_7_7/7_7_7/velocity\n"
          ]
        },
        {
          "output_type": "stream",
          "name": "stderr",
          "text": [
            "INFO:kaldo:Loading si-bulk-ald-7_7_7/7_7_7/velocity\n"
          ]
        },
        {
          "output_type": "stream",
          "name": "stdout",
          "text": [
            "2022-10-29 04:58:30,187 - kaldo - INFO - Loading si-bulk-ald-7_7_7/7_7_7/physical_mode\n"
          ]
        },
        {
          "output_type": "stream",
          "name": "stderr",
          "text": [
            "INFO:kaldo:Loading si-bulk-ald-7_7_7/7_7_7/physical_mode\n"
          ]
        },
        {
          "output_type": "stream",
          "name": "stdout",
          "text": [
            "2022-10-29 04:58:30,189 - kaldo - INFO - Loading si-bulk-ald-7_7_7/7_7_7/300/quantum/bandwidth\n"
          ]
        },
        {
          "output_type": "stream",
          "name": "stderr",
          "text": [
            "INFO:kaldo:Loading si-bulk-ald-7_7_7/7_7_7/300/quantum/bandwidth\n"
          ]
        },
        {
          "output_type": "stream",
          "name": "stdout",
          "text": [
            "2022-10-29 04:58:30,218 - kaldo - INFO - Loading si-bulk-ald-7_7_7/7_7_7/300/quantum/heat_capacity\n"
          ]
        },
        {
          "output_type": "stream",
          "name": "stderr",
          "text": [
            "INFO:kaldo:Loading si-bulk-ald-7_7_7/7_7_7/300/quantum/heat_capacity\n"
          ]
        },
        {
          "output_type": "stream",
          "name": "stdout",
          "text": [
            "2022-10-29 04:58:30,222 - kaldo - INFO - Loading si-bulk-ald-7_7_7/7_7_7/velocity\n"
          ]
        },
        {
          "output_type": "stream",
          "name": "stderr",
          "text": [
            "INFO:kaldo:Loading si-bulk-ald-7_7_7/7_7_7/velocity\n"
          ]
        },
        {
          "output_type": "stream",
          "name": "stdout",
          "text": [
            "2022-10-29 04:58:30,229 - kaldo - INFO - Loading si-bulk-ald-7_7_7/7_7_7/physical_mode\n"
          ]
        },
        {
          "output_type": "stream",
          "name": "stderr",
          "text": [
            "INFO:kaldo:Loading si-bulk-ald-7_7_7/7_7_7/physical_mode\n"
          ]
        },
        {
          "output_type": "stream",
          "name": "stdout",
          "text": [
            "2022-10-29 04:58:30,232 - kaldo - INFO - Conductivity calculated\n"
          ]
        },
        {
          "output_type": "stream",
          "name": "stderr",
          "text": [
            "INFO:kaldo:Conductivity calculated\n"
          ]
        },
        {
          "output_type": "stream",
          "name": "stdout",
          "text": [
            "Rta conductivity (W/mK): 258.270\n",
            "[[259.69187161   3.58836702  -0.90834752]\n",
            " [  3.58836702 256.85613244  -0.82038562]\n",
            " [ -0.90834752  -0.82038562 258.26161148]]\n",
            "\n",
            "\n",
            "2022-10-29 04:58:30,293 - kaldo - INFO - si-bulk-ald-7_7_7/7_7_7/300/quantum/sc/conductivity not found in formatted format, calculating conductivity\n"
          ]
        },
        {
          "output_type": "stream",
          "name": "stderr",
          "text": [
            "INFO:kaldo:si-bulk-ald-7_7_7/7_7_7/300/quantum/sc/conductivity not found in formatted format, calculating conductivity\n"
          ]
        },
        {
          "output_type": "stream",
          "name": "stdout",
          "text": [
            "2022-10-29 04:58:30,298 - kaldo - INFO - si-bulk-ald-7_7_7/7_7_7/300/quantum/sc/mean_free_path not found in formatted format, calculating mean_free_path\n"
          ]
        },
        {
          "output_type": "stream",
          "name": "stderr",
          "text": [
            "INFO:kaldo:si-bulk-ald-7_7_7/7_7_7/300/quantum/sc/mean_free_path not found in formatted format, calculating mean_free_path\n"
          ]
        },
        {
          "output_type": "stream",
          "name": "stdout",
          "text": [
            "2022-10-29 04:58:30,305 - kaldo - INFO - Loading si-bulk-ald-7_7_7/7_7_7/velocity\n"
          ]
        },
        {
          "output_type": "stream",
          "name": "stderr",
          "text": [
            "INFO:kaldo:Loading si-bulk-ald-7_7_7/7_7_7/velocity\n"
          ]
        },
        {
          "output_type": "stream",
          "name": "stdout",
          "text": [
            "2022-10-29 04:58:30,311 - kaldo - INFO - Loading si-bulk-ald-7_7_7/7_7_7/physical_mode\n"
          ]
        },
        {
          "output_type": "stream",
          "name": "stderr",
          "text": [
            "INFO:kaldo:Loading si-bulk-ald-7_7_7/7_7_7/physical_mode\n"
          ]
        },
        {
          "output_type": "stream",
          "name": "stdout",
          "text": [
            "2022-10-29 04:58:30,316 - kaldo - INFO - Loading si-bulk-ald-7_7_7/7_7_7/physical_mode\n"
          ]
        },
        {
          "output_type": "stream",
          "name": "stderr",
          "text": [
            "INFO:kaldo:Loading si-bulk-ald-7_7_7/7_7_7/physical_mode\n"
          ]
        },
        {
          "output_type": "stream",
          "name": "stdout",
          "text": [
            "2022-10-29 04:58:30,323 - kaldo - INFO - Loading si-bulk-ald-7_7_7/7_7_7/frequency\n"
          ]
        },
        {
          "output_type": "stream",
          "name": "stderr",
          "text": [
            "INFO:kaldo:Loading si-bulk-ald-7_7_7/7_7_7/frequency\n"
          ]
        },
        {
          "output_type": "stream",
          "name": "stdout",
          "text": [
            "2022-10-29 04:58:30,344 - kaldo - INFO - Loading si-bulk-ald-7_7_7/7_7_7/300/quantum/_ps_gamma_and_gamma_tensor\n"
          ]
        },
        {
          "output_type": "stream",
          "name": "stderr",
          "text": [
            "INFO:kaldo:Loading si-bulk-ald-7_7_7/7_7_7/300/quantum/_ps_gamma_and_gamma_tensor\n"
          ]
        },
        {
          "output_type": "stream",
          "name": "stdout",
          "text": [
            "2022-10-29 04:58:30,363 - kaldo - INFO - _scattering_matrix: [2055 2055] * <class 'float'>\n"
          ]
        },
        {
          "output_type": "stream",
          "name": "stderr",
          "text": [
            "INFO:kaldo:_scattering_matrix: [2055 2055] * <class 'float'>\n"
          ]
        },
        {
          "output_type": "stream",
          "name": "stdout",
          "text": [
            "2022-10-29 04:58:30,368 - kaldo - INFO - Memory needed: 33 MB, available: 11268 / 13616 MB\n"
          ]
        },
        {
          "output_type": "stream",
          "name": "stderr",
          "text": [
            "INFO:kaldo:Memory needed: 33 MB, available: 11268 / 13616 MB\n"
          ]
        },
        {
          "output_type": "stream",
          "name": "stdout",
          "text": [
            "2022-10-29 04:58:30,413 - kaldo - INFO - Loading si-bulk-ald-7_7_7/7_7_7/300/quantum/bandwidth\n"
          ]
        },
        {
          "output_type": "stream",
          "name": "stderr",
          "text": [
            "INFO:kaldo:Loading si-bulk-ald-7_7_7/7_7_7/300/quantum/bandwidth\n"
          ]
        },
        {
          "output_type": "stream",
          "name": "stdout",
          "text": [
            "2022-10-29 04:58:30,422 - kaldo - INFO - Loading si-bulk-ald-7_7_7/7_7_7/300/quantum/heat_capacity\n"
          ]
        },
        {
          "output_type": "stream",
          "name": "stderr",
          "text": [
            "INFO:kaldo:Loading si-bulk-ald-7_7_7/7_7_7/300/quantum/heat_capacity\n"
          ]
        },
        {
          "output_type": "stream",
          "name": "stdout",
          "text": [
            "2022-10-29 04:58:30,431 - kaldo - INFO - Loading si-bulk-ald-7_7_7/7_7_7/300/quantum/bandwidth\n"
          ]
        },
        {
          "output_type": "stream",
          "name": "stderr",
          "text": [
            "INFO:kaldo:Loading si-bulk-ald-7_7_7/7_7_7/300/quantum/bandwidth\n"
          ]
        },
        {
          "output_type": "stream",
          "name": "stdout",
          "text": [
            "2022-10-29 04:58:30,447 - kaldo - INFO - Loading si-bulk-ald-7_7_7/7_7_7/300/quantum/heat_capacity\n"
          ]
        },
        {
          "output_type": "stream",
          "name": "stderr",
          "text": [
            "INFO:kaldo:Loading si-bulk-ald-7_7_7/7_7_7/300/quantum/heat_capacity\n"
          ]
        },
        {
          "output_type": "stream",
          "name": "stdout",
          "text": [
            "2022-10-29 04:58:30,457 - kaldo - INFO - Loading si-bulk-ald-7_7_7/7_7_7/300/quantum/bandwidth\n"
          ]
        },
        {
          "output_type": "stream",
          "name": "stderr",
          "text": [
            "INFO:kaldo:Loading si-bulk-ald-7_7_7/7_7_7/300/quantum/bandwidth\n"
          ]
        },
        {
          "output_type": "stream",
          "name": "stdout",
          "text": [
            "2022-10-29 04:58:30,488 - kaldo - INFO - Loading si-bulk-ald-7_7_7/7_7_7/300/quantum/heat_capacity\n"
          ]
        },
        {
          "output_type": "stream",
          "name": "stderr",
          "text": [
            "INFO:kaldo:Loading si-bulk-ald-7_7_7/7_7_7/300/quantum/heat_capacity\n"
          ]
        },
        {
          "output_type": "stream",
          "name": "stdout",
          "text": [
            "2022-10-29 04:58:30,494 - kaldo - INFO - Loading si-bulk-ald-7_7_7/7_7_7/300/quantum/bandwidth\n"
          ]
        },
        {
          "output_type": "stream",
          "name": "stderr",
          "text": [
            "INFO:kaldo:Loading si-bulk-ald-7_7_7/7_7_7/300/quantum/bandwidth\n"
          ]
        },
        {
          "output_type": "stream",
          "name": "stdout",
          "text": [
            "2022-10-29 04:58:30,513 - kaldo - INFO - Loading si-bulk-ald-7_7_7/7_7_7/300/quantum/heat_capacity\n"
          ]
        },
        {
          "output_type": "stream",
          "name": "stderr",
          "text": [
            "INFO:kaldo:Loading si-bulk-ald-7_7_7/7_7_7/300/quantum/heat_capacity\n"
          ]
        },
        {
          "output_type": "stream",
          "name": "stdout",
          "text": [
            "2022-10-29 04:58:30,519 - kaldo - INFO - Loading si-bulk-ald-7_7_7/7_7_7/300/quantum/bandwidth\n"
          ]
        },
        {
          "output_type": "stream",
          "name": "stderr",
          "text": [
            "INFO:kaldo:Loading si-bulk-ald-7_7_7/7_7_7/300/quantum/bandwidth\n"
          ]
        },
        {
          "output_type": "stream",
          "name": "stdout",
          "text": [
            "2022-10-29 04:58:30,540 - kaldo - INFO - Loading si-bulk-ald-7_7_7/7_7_7/300/quantum/heat_capacity\n"
          ]
        },
        {
          "output_type": "stream",
          "name": "stderr",
          "text": [
            "INFO:kaldo:Loading si-bulk-ald-7_7_7/7_7_7/300/quantum/heat_capacity\n"
          ]
        },
        {
          "output_type": "stream",
          "name": "stdout",
          "text": [
            "2022-10-29 04:58:30,546 - kaldo - INFO - Loading si-bulk-ald-7_7_7/7_7_7/300/quantum/bandwidth\n"
          ]
        },
        {
          "output_type": "stream",
          "name": "stderr",
          "text": [
            "INFO:kaldo:Loading si-bulk-ald-7_7_7/7_7_7/300/quantum/bandwidth\n"
          ]
        },
        {
          "output_type": "stream",
          "name": "stdout",
          "text": [
            "2022-10-29 04:58:30,563 - kaldo - INFO - Loading si-bulk-ald-7_7_7/7_7_7/300/quantum/heat_capacity\n"
          ]
        },
        {
          "output_type": "stream",
          "name": "stderr",
          "text": [
            "INFO:kaldo:Loading si-bulk-ald-7_7_7/7_7_7/300/quantum/heat_capacity\n"
          ]
        },
        {
          "output_type": "stream",
          "name": "stdout",
          "text": [
            "2022-10-29 04:58:30,573 - kaldo - INFO - Loading si-bulk-ald-7_7_7/7_7_7/300/quantum/bandwidth\n"
          ]
        },
        {
          "output_type": "stream",
          "name": "stderr",
          "text": [
            "INFO:kaldo:Loading si-bulk-ald-7_7_7/7_7_7/300/quantum/bandwidth\n"
          ]
        },
        {
          "output_type": "stream",
          "name": "stdout",
          "text": [
            "2022-10-29 04:58:30,589 - kaldo - INFO - Loading si-bulk-ald-7_7_7/7_7_7/300/quantum/heat_capacity\n"
          ]
        },
        {
          "output_type": "stream",
          "name": "stderr",
          "text": [
            "INFO:kaldo:Loading si-bulk-ald-7_7_7/7_7_7/300/quantum/heat_capacity\n"
          ]
        },
        {
          "output_type": "stream",
          "name": "stdout",
          "text": [
            "2022-10-29 04:58:30,597 - kaldo - INFO - Loading si-bulk-ald-7_7_7/7_7_7/300/quantum/bandwidth\n"
          ]
        },
        {
          "output_type": "stream",
          "name": "stderr",
          "text": [
            "INFO:kaldo:Loading si-bulk-ald-7_7_7/7_7_7/300/quantum/bandwidth\n"
          ]
        },
        {
          "output_type": "stream",
          "name": "stdout",
          "text": [
            "2022-10-29 04:58:30,615 - kaldo - INFO - Loading si-bulk-ald-7_7_7/7_7_7/300/quantum/heat_capacity\n"
          ]
        },
        {
          "output_type": "stream",
          "name": "stderr",
          "text": [
            "INFO:kaldo:Loading si-bulk-ald-7_7_7/7_7_7/300/quantum/heat_capacity\n"
          ]
        },
        {
          "output_type": "stream",
          "name": "stdout",
          "text": [
            "2022-10-29 04:58:30,620 - kaldo - INFO - Loading si-bulk-ald-7_7_7/7_7_7/300/quantum/bandwidth\n"
          ]
        },
        {
          "output_type": "stream",
          "name": "stderr",
          "text": [
            "INFO:kaldo:Loading si-bulk-ald-7_7_7/7_7_7/300/quantum/bandwidth\n"
          ]
        },
        {
          "output_type": "stream",
          "name": "stdout",
          "text": [
            "2022-10-29 04:58:30,640 - kaldo - INFO - Loading si-bulk-ald-7_7_7/7_7_7/300/quantum/heat_capacity\n"
          ]
        },
        {
          "output_type": "stream",
          "name": "stderr",
          "text": [
            "INFO:kaldo:Loading si-bulk-ald-7_7_7/7_7_7/300/quantum/heat_capacity\n"
          ]
        },
        {
          "output_type": "stream",
          "name": "stdout",
          "text": [
            "2022-10-29 04:58:30,645 - kaldo - INFO - Loading si-bulk-ald-7_7_7/7_7_7/300/quantum/bandwidth\n"
          ]
        },
        {
          "output_type": "stream",
          "name": "stderr",
          "text": [
            "INFO:kaldo:Loading si-bulk-ald-7_7_7/7_7_7/300/quantum/bandwidth\n"
          ]
        },
        {
          "output_type": "stream",
          "name": "stdout",
          "text": [
            "2022-10-29 04:58:30,665 - kaldo - INFO - Loading si-bulk-ald-7_7_7/7_7_7/300/quantum/heat_capacity\n"
          ]
        },
        {
          "output_type": "stream",
          "name": "stderr",
          "text": [
            "INFO:kaldo:Loading si-bulk-ald-7_7_7/7_7_7/300/quantum/heat_capacity\n"
          ]
        },
        {
          "output_type": "stream",
          "name": "stdout",
          "text": [
            "2022-10-29 04:58:30,683 - kaldo - INFO - Loading si-bulk-ald-7_7_7/7_7_7/300/quantum/bandwidth\n"
          ]
        },
        {
          "output_type": "stream",
          "name": "stderr",
          "text": [
            "INFO:kaldo:Loading si-bulk-ald-7_7_7/7_7_7/300/quantum/bandwidth\n"
          ]
        },
        {
          "output_type": "stream",
          "name": "stdout",
          "text": [
            "2022-10-29 04:58:30,722 - kaldo - INFO - Loading si-bulk-ald-7_7_7/7_7_7/300/quantum/heat_capacity\n"
          ]
        },
        {
          "output_type": "stream",
          "name": "stderr",
          "text": [
            "INFO:kaldo:Loading si-bulk-ald-7_7_7/7_7_7/300/quantum/heat_capacity\n"
          ]
        },
        {
          "output_type": "stream",
          "name": "stdout",
          "text": [
            "2022-10-29 04:58:30,729 - kaldo - INFO - Loading si-bulk-ald-7_7_7/7_7_7/300/quantum/bandwidth\n"
          ]
        },
        {
          "output_type": "stream",
          "name": "stderr",
          "text": [
            "INFO:kaldo:Loading si-bulk-ald-7_7_7/7_7_7/300/quantum/bandwidth\n"
          ]
        },
        {
          "output_type": "stream",
          "name": "stdout",
          "text": [
            "2022-10-29 04:58:30,750 - kaldo - INFO - Loading si-bulk-ald-7_7_7/7_7_7/300/quantum/heat_capacity\n"
          ]
        },
        {
          "output_type": "stream",
          "name": "stderr",
          "text": [
            "INFO:kaldo:Loading si-bulk-ald-7_7_7/7_7_7/300/quantum/heat_capacity\n"
          ]
        },
        {
          "output_type": "stream",
          "name": "stdout",
          "text": [
            "2022-10-29 04:58:30,757 - kaldo - INFO - Loading si-bulk-ald-7_7_7/7_7_7/300/quantum/bandwidth\n"
          ]
        },
        {
          "output_type": "stream",
          "name": "stderr",
          "text": [
            "INFO:kaldo:Loading si-bulk-ald-7_7_7/7_7_7/300/quantum/bandwidth\n"
          ]
        },
        {
          "output_type": "stream",
          "name": "stdout",
          "text": [
            "2022-10-29 04:58:30,780 - kaldo - INFO - Loading si-bulk-ald-7_7_7/7_7_7/300/quantum/heat_capacity\n"
          ]
        },
        {
          "output_type": "stream",
          "name": "stderr",
          "text": [
            "INFO:kaldo:Loading si-bulk-ald-7_7_7/7_7_7/300/quantum/heat_capacity\n"
          ]
        },
        {
          "output_type": "stream",
          "name": "stdout",
          "text": [
            "2022-10-29 04:58:30,793 - kaldo - INFO - Loading si-bulk-ald-7_7_7/7_7_7/300/quantum/bandwidth\n"
          ]
        },
        {
          "output_type": "stream",
          "name": "stderr",
          "text": [
            "INFO:kaldo:Loading si-bulk-ald-7_7_7/7_7_7/300/quantum/bandwidth\n"
          ]
        },
        {
          "output_type": "stream",
          "name": "stdout",
          "text": [
            "2022-10-29 04:58:30,815 - kaldo - INFO - Loading si-bulk-ald-7_7_7/7_7_7/300/quantum/heat_capacity\n"
          ]
        },
        {
          "output_type": "stream",
          "name": "stderr",
          "text": [
            "INFO:kaldo:Loading si-bulk-ald-7_7_7/7_7_7/300/quantum/heat_capacity\n"
          ]
        },
        {
          "output_type": "stream",
          "name": "stdout",
          "text": [
            "2022-10-29 04:58:30,829 - kaldo - INFO - Loading si-bulk-ald-7_7_7/7_7_7/300/quantum/bandwidth\n"
          ]
        },
        {
          "output_type": "stream",
          "name": "stderr",
          "text": [
            "INFO:kaldo:Loading si-bulk-ald-7_7_7/7_7_7/300/quantum/bandwidth\n"
          ]
        },
        {
          "output_type": "stream",
          "name": "stdout",
          "text": [
            "2022-10-29 04:58:30,843 - kaldo - INFO - Loading si-bulk-ald-7_7_7/7_7_7/300/quantum/heat_capacity\n"
          ]
        },
        {
          "output_type": "stream",
          "name": "stderr",
          "text": [
            "INFO:kaldo:Loading si-bulk-ald-7_7_7/7_7_7/300/quantum/heat_capacity\n"
          ]
        },
        {
          "output_type": "stream",
          "name": "stdout",
          "text": [
            "2022-10-29 04:58:30,857 - kaldo - INFO - Loading si-bulk-ald-7_7_7/7_7_7/300/quantum/bandwidth\n"
          ]
        },
        {
          "output_type": "stream",
          "name": "stderr",
          "text": [
            "INFO:kaldo:Loading si-bulk-ald-7_7_7/7_7_7/300/quantum/bandwidth\n"
          ]
        },
        {
          "output_type": "stream",
          "name": "stdout",
          "text": [
            "2022-10-29 04:58:30,880 - kaldo - INFO - Loading si-bulk-ald-7_7_7/7_7_7/300/quantum/heat_capacity\n"
          ]
        },
        {
          "output_type": "stream",
          "name": "stderr",
          "text": [
            "INFO:kaldo:Loading si-bulk-ald-7_7_7/7_7_7/300/quantum/heat_capacity\n"
          ]
        },
        {
          "output_type": "stream",
          "name": "stdout",
          "text": [
            "2022-10-29 04:58:30,892 - kaldo - INFO - Loading si-bulk-ald-7_7_7/7_7_7/300/quantum/bandwidth\n"
          ]
        },
        {
          "output_type": "stream",
          "name": "stderr",
          "text": [
            "INFO:kaldo:Loading si-bulk-ald-7_7_7/7_7_7/300/quantum/bandwidth\n"
          ]
        },
        {
          "output_type": "stream",
          "name": "stdout",
          "text": [
            "2022-10-29 04:58:30,909 - kaldo - INFO - Loading si-bulk-ald-7_7_7/7_7_7/300/quantum/heat_capacity\n"
          ]
        },
        {
          "output_type": "stream",
          "name": "stderr",
          "text": [
            "INFO:kaldo:Loading si-bulk-ald-7_7_7/7_7_7/300/quantum/heat_capacity\n"
          ]
        },
        {
          "output_type": "stream",
          "name": "stdout",
          "text": [
            "2022-10-29 04:58:30,920 - kaldo - INFO - Loading si-bulk-ald-7_7_7/7_7_7/300/quantum/bandwidth\n"
          ]
        },
        {
          "output_type": "stream",
          "name": "stderr",
          "text": [
            "INFO:kaldo:Loading si-bulk-ald-7_7_7/7_7_7/300/quantum/bandwidth\n"
          ]
        },
        {
          "output_type": "stream",
          "name": "stdout",
          "text": [
            "2022-10-29 04:58:30,938 - kaldo - INFO - Loading si-bulk-ald-7_7_7/7_7_7/300/quantum/heat_capacity\n"
          ]
        },
        {
          "output_type": "stream",
          "name": "stderr",
          "text": [
            "INFO:kaldo:Loading si-bulk-ald-7_7_7/7_7_7/300/quantum/heat_capacity\n"
          ]
        },
        {
          "output_type": "stream",
          "name": "stdout",
          "text": [
            "2022-10-29 04:58:30,949 - kaldo - INFO - Loading si-bulk-ald-7_7_7/7_7_7/300/quantum/bandwidth\n"
          ]
        },
        {
          "output_type": "stream",
          "name": "stderr",
          "text": [
            "INFO:kaldo:Loading si-bulk-ald-7_7_7/7_7_7/300/quantum/bandwidth\n"
          ]
        },
        {
          "output_type": "stream",
          "name": "stdout",
          "text": [
            "2022-10-29 04:58:30,966 - kaldo - INFO - Loading si-bulk-ald-7_7_7/7_7_7/300/quantum/heat_capacity\n"
          ]
        },
        {
          "output_type": "stream",
          "name": "stderr",
          "text": [
            "INFO:kaldo:Loading si-bulk-ald-7_7_7/7_7_7/300/quantum/heat_capacity\n"
          ]
        },
        {
          "output_type": "stream",
          "name": "stdout",
          "text": [
            "2022-10-29 04:58:30,977 - kaldo - INFO - Loading si-bulk-ald-7_7_7/7_7_7/300/quantum/bandwidth\n"
          ]
        },
        {
          "output_type": "stream",
          "name": "stderr",
          "text": [
            "INFO:kaldo:Loading si-bulk-ald-7_7_7/7_7_7/300/quantum/bandwidth\n"
          ]
        },
        {
          "output_type": "stream",
          "name": "stdout",
          "text": [
            "2022-10-29 04:58:30,995 - kaldo - INFO - Loading si-bulk-ald-7_7_7/7_7_7/300/quantum/heat_capacity\n"
          ]
        },
        {
          "output_type": "stream",
          "name": "stderr",
          "text": [
            "INFO:kaldo:Loading si-bulk-ald-7_7_7/7_7_7/300/quantum/heat_capacity\n"
          ]
        },
        {
          "output_type": "stream",
          "name": "stdout",
          "text": [
            "2022-10-29 04:58:31,006 - kaldo - INFO - Loading si-bulk-ald-7_7_7/7_7_7/300/quantum/bandwidth\n"
          ]
        },
        {
          "output_type": "stream",
          "name": "stderr",
          "text": [
            "INFO:kaldo:Loading si-bulk-ald-7_7_7/7_7_7/300/quantum/bandwidth\n"
          ]
        },
        {
          "output_type": "stream",
          "name": "stdout",
          "text": [
            "2022-10-29 04:58:31,024 - kaldo - INFO - Number of self-consistent iterations: 19\n"
          ]
        },
        {
          "output_type": "stream",
          "name": "stderr",
          "text": [
            "INFO:kaldo:Number of self-consistent iterations: 19\n"
          ]
        },
        {
          "output_type": "stream",
          "name": "stdout",
          "text": [
            "2022-10-29 04:58:31,063 - kaldo - INFO - Loading si-bulk-ald-7_7_7/7_7_7/300/quantum/heat_capacity\n"
          ]
        },
        {
          "output_type": "stream",
          "name": "stderr",
          "text": [
            "INFO:kaldo:Loading si-bulk-ald-7_7_7/7_7_7/300/quantum/heat_capacity\n"
          ]
        },
        {
          "output_type": "stream",
          "name": "stdout",
          "text": [
            "2022-10-29 04:58:31,072 - kaldo - INFO - Loading si-bulk-ald-7_7_7/7_7_7/velocity\n"
          ]
        },
        {
          "output_type": "stream",
          "name": "stderr",
          "text": [
            "INFO:kaldo:Loading si-bulk-ald-7_7_7/7_7_7/velocity\n"
          ]
        },
        {
          "output_type": "stream",
          "name": "stdout",
          "text": [
            "2022-10-29 04:58:31,081 - kaldo - INFO - Loading si-bulk-ald-7_7_7/7_7_7/physical_mode\n"
          ]
        },
        {
          "output_type": "stream",
          "name": "stderr",
          "text": [
            "INFO:kaldo:Loading si-bulk-ald-7_7_7/7_7_7/physical_mode\n"
          ]
        },
        {
          "output_type": "stream",
          "name": "stdout",
          "text": [
            "2022-10-29 04:58:31,085 - kaldo - INFO - Conductivity calculated\n"
          ]
        },
        {
          "output_type": "stream",
          "name": "stderr",
          "text": [
            "INFO:kaldo:Conductivity calculated\n"
          ]
        },
        {
          "output_type": "stream",
          "name": "stdout",
          "text": [
            "Self-consistent conductivity (W/mK): 290.827\n",
            "[[292.42153842   4.57165769  -0.53825507]\n",
            " [  4.66520589 289.25386935  -0.52648868]\n",
            " [ -0.52326165  -0.46772837 290.80473188]]\n"
          ]
        }
      ]
    },
    {
      "cell_type": "markdown",
      "source": [
        "### Visualize harmonic properties using built-in plotter\n"
      ],
      "metadata": {
        "id": "FNMtnrSqCMel"
      }
    },
    {
      "cell_type": "code",
      "source": [
        "import kaldo.controllers.plotter as plotter\n",
        "import matplotlib.pyplot as plt\n",
        "plt.style.use('seaborn-poster')\n",
        "\n",
        "# Plot dispersion relation and group velocity in each direction\n",
        "plotter.plot_dispersion(phonons,n_k_points=int(k_label))\n",
        "print('\\n')"
      ],
      "metadata": {
        "colab": {
          "base_uri": "https://localhost:8080/",
          "height": 1000
        },
        "id": "O-TT1ZgXCMvb",
        "outputId": "367965fe-0ac9-4bf4-b98a-61e94a8babc8"
      },
      "execution_count": 9,
      "outputs": [
        {
          "output_type": "stream",
          "name": "stderr",
          "text": [
            "/usr/local/lib/python3.7/dist-packages/kaldo/observables/harmonic_with_q.py:214: RuntimeWarning: invalid value encountered in sqrt\n",
            "  inverse_sqrt_freq = tf.cast(tf.convert_to_tensor(1 / np.sqrt(frequency)), tf.complex128)\n"
          ]
        },
        {
          "output_type": "display_data",
          "data": {
            "text/plain": [
              "<Figure size 921.6x633.6 with 1 Axes>"
            ],
            "image/png": "[encoded data removed]"
          },
          "metadata": {
            "needs_background": "light"
          }
        },
        {
          "output_type": "display_data",
          "data": {
            "text/plain": [
              "<Figure size 921.6x633.6 with 1 Axes>"
            ],
            "image/png": "[encoded data removed]"
          },
          "metadata": {
            "needs_background": "light"
          }
        },
        {
          "output_type": "stream",
          "name": "stdout",
          "text": [
            "\n",
            "\n"
          ]
        }
      ]
    },
    {
      "cell_type": "markdown",
      "source": [
        "### Access and visualize properties calculated during simulations"
      ],
      "metadata": {
        "id": "pncDcGFmCPLW"
      }
    },
    {
      "cell_type": "code",
      "source": [
        "# Direct access to properties\n",
        "# calculated during the simulation\n",
        "\n",
        "# Plot heat capacity vs frequency\n",
        "freq_full = phonons.frequency.flatten(order='C')\n",
        "cv_1d = phonons.heat_capacity.flatten(order='C')[3:]\n",
        "\n",
        "print('\\n')\n",
        "plt.figure()\n",
        "plt.scatter(freq_full[3:],1e23*cv_1d,s=15)\n",
        "plt.ylabel (r\"$C_{v}$ ($10^{23}$ J/K)\", fontsize=25, fontweight='bold')\n",
        "plt.xlabel (\"$\\\\nu$ (Thz)\", fontsize=25, fontweight='bold')\n",
        "plt.ylim(0.9*1e23*cv_1d[cv_1d>0].min(), \n",
        "         1.05*1e23*cv_1d.max())\n",
        "plt.show()\n",
        "\n",
        "# Plot phonon bandwidth vs frequency\n",
        "band_width_flatten = phonons.bandwidth.flatten(order='C')\n",
        "freq = freq_full[band_width_flatten!=0]\n",
        "\n",
        "print('\\n')\n",
        "plt.figure()\n",
        "plt.scatter(freq,band_width_flatten[band_width_flatten!=0] ,s=15)\n",
        "plt.ylabel (r\"$\\Gamma$ (Thz)\", fontsize=25, fontweight='bold')\n",
        "plt.xlabel (\"$\\\\nu$ (Thz)\", fontsize=25, fontweight='bold')\n",
        "plt.ylim(0.95*band_width_flatten .min(), 1.05*band_width_flatten .max())\n",
        "plt.show()\n",
        "\n",
        "# Plot phase space vs frequency\n",
        "print('\\n')\n",
        "plt.figure()\n",
        "plt.scatter(freq_full[3:],phonons.phase_space.flatten(order='C')[3:],s=15)\n",
        "plt.ylabel (\"Phase space\", fontsize=25, fontweight='bold')\n",
        "plt.xlabel (\"$\\\\nu$ (Thz)\", fontsize=25, fontweight='bold')\n",
        "plt.ylim(phonons.phase_space.min(), phonons.phase_space.max())\n",
        "plt.show()"
      ],
      "metadata": {
        "colab": {
          "base_uri": "https://localhost:8080/",
          "height": 1000
        },
        "id": "Tx5FIPnKCPZ1",
        "outputId": "5a94df48-980a-470c-e04e-ef4069629b98"
      },
      "execution_count": 10,
      "outputs": [
        {
          "output_type": "stream",
          "name": "stdout",
          "text": [
            "2022-10-29 04:58:58,935 - kaldo - INFO - Loading si-bulk-ald-7_7_7/7_7_7/frequency\n"
          ]
        },
        {
          "output_type": "stream",
          "name": "stderr",
          "text": [
            "INFO:kaldo:Loading si-bulk-ald-7_7_7/7_7_7/frequency\n"
          ]
        },
        {
          "output_type": "stream",
          "name": "stdout",
          "text": [
            "2022-10-29 04:58:58,943 - kaldo - INFO - Loading si-bulk-ald-7_7_7/7_7_7/300/quantum/heat_capacity\n"
          ]
        },
        {
          "output_type": "stream",
          "name": "stderr",
          "text": [
            "INFO:kaldo:Loading si-bulk-ald-7_7_7/7_7_7/300/quantum/heat_capacity\n"
          ]
        },
        {
          "output_type": "stream",
          "name": "stdout",
          "text": [
            "\n",
            "\n"
          ]
        },
        {
          "output_type": "display_data",
          "data": {
            "text/plain": [
              "<Figure size 921.6x633.6 with 1 Axes>"
            ],
            "image/png": "[encoded data removed]"
          },
          "metadata": {
            "needs_background": "light"
          }
        },
        {
          "output_type": "stream",
          "name": "stdout",
          "text": [
            "2022-10-29 04:58:59,126 - kaldo - INFO - Loading si-bulk-ald-7_7_7/7_7_7/300/quantum/bandwidth\n"
          ]
        },
        {
          "output_type": "stream",
          "name": "stderr",
          "text": [
            "INFO:kaldo:Loading si-bulk-ald-7_7_7/7_7_7/300/quantum/bandwidth\n"
          ]
        },
        {
          "output_type": "stream",
          "name": "stdout",
          "text": [
            "\n",
            "\n"
          ]
        },
        {
          "output_type": "display_data",
          "data": {
            "text/plain": [
              "<Figure size 921.6x633.6 with 1 Axes>"
            ],
            "image/png": "[encoded data removed]"
          },
          "metadata": {
            "needs_background": "light"
          }
        },
        {
          "output_type": "stream",
          "name": "stdout",
          "text": [
            "\n",
            "\n",
            "2022-10-29 04:58:59,274 - kaldo - INFO - si-bulk-ald-7_7_7/7_7_7/300/quantum/phase_space not found in numpy format, calculating phase_space\n"
          ]
        },
        {
          "output_type": "stream",
          "name": "stderr",
          "text": [
            "INFO:kaldo:si-bulk-ald-7_7_7/7_7_7/300/quantum/phase_space not found in numpy format, calculating phase_space\n"
          ]
        },
        {
          "output_type": "stream",
          "name": "stdout",
          "text": [
            "2022-10-29 04:58:59,278 - kaldo - INFO - Loading si-bulk-ald-7_7_7/7_7_7/300/quantum/_ps_and_gamma\n"
          ]
        },
        {
          "output_type": "stream",
          "name": "stderr",
          "text": [
            "INFO:kaldo:Loading si-bulk-ald-7_7_7/7_7_7/300/quantum/_ps_and_gamma\n"
          ]
        },
        {
          "output_type": "stream",
          "name": "stdout",
          "text": [
            "2022-10-29 04:58:59,281 - kaldo - INFO - si-bulk-ald-7_7_7/7_7_7/300/quantum/phase_space stored\n"
          ]
        },
        {
          "output_type": "stream",
          "name": "stderr",
          "text": [
            "INFO:kaldo:si-bulk-ald-7_7_7/7_7_7/300/quantum/phase_space stored\n"
          ]
        },
        {
          "output_type": "stream",
          "name": "stdout",
          "text": [
            "2022-10-29 04:58:59,308 - kaldo - INFO - Loading si-bulk-ald-7_7_7/7_7_7/300/quantum/phase_space\n"
          ]
        },
        {
          "output_type": "stream",
          "name": "stderr",
          "text": [
            "INFO:kaldo:Loading si-bulk-ald-7_7_7/7_7_7/300/quantum/phase_space\n"
          ]
        },
        {
          "output_type": "stream",
          "name": "stdout",
          "text": [
            "2022-10-29 04:58:59,314 - kaldo - INFO - Loading si-bulk-ald-7_7_7/7_7_7/300/quantum/phase_space\n"
          ]
        },
        {
          "output_type": "stream",
          "name": "stderr",
          "text": [
            "INFO:kaldo:Loading si-bulk-ald-7_7_7/7_7_7/300/quantum/phase_space\n"
          ]
        },
        {
          "output_type": "display_data",
          "data": {
            "text/plain": [
              "<Figure size 921.6x633.6 with 1 Axes>"
            ],
            "image/png": "[encoded data removed]"
          },
          "metadata": {
            "needs_background": "light"
          }
        }
      ]
    },
    {
      "cell_type": "markdown",
      "source": [
        "### Calculate and visualize $\\kappa_{per \\ mode}$ and $\\kappa_{cum}$"
      ],
      "metadata": {
        "id": "kq8Fg_H1CQu-"
      }
    },
    {
      "cell_type": "code",
      "source": [
        "def cumulative_cond_cal(freq,full_cond,n_phonons):\n",
        "\n",
        "  conductivity = np.einsum('maa->m', 1/3 * full_cond)\n",
        "  conductivity = conductivity.reshape(n_phonons)\n",
        "  cumulative_cond = np.zeros_like(conductivity)\n",
        "  freq_reshaped = freq.reshape(n_phonons)\n",
        "\n",
        "  for mu in range(cumulative_cond.size):\n",
        "      single_cumulative_cond = conductivity[(freq_reshaped < freq_reshaped[mu])].sum()\n",
        "      cumulative_cond[mu] = single_cumulative_cond\n",
        "  \n",
        "  return cumulative_cond"
      ],
      "metadata": {
        "id": "km6Vvh8lCTkt"
      },
      "execution_count": 11,
      "outputs": []
    },
    {
      "cell_type": "code",
      "source": [
        "# Compute conductivity with per phonon mode basis using different methods\n",
        "kappa_rta_per_mode = np.einsum('maa->m',1/3*Conductivity(phonons=phonons, method='rta').conductivity)\n",
        "kappa_inv_per_mode = np.einsum('maa->m',1/3*Conductivity(phonons=phonons, method='inverse').conductivity)\n",
        "kappa_sc_per_mode = np.einsum('maa->m',1/3*Conductivity(phonons=phonons, method='sc',n_iterations=20).conductivity)\n",
        "\n",
        "# Compute cumulative conductivity by frequency using different methods\n",
        "kappa_rta_cum_freq = cumulative_cond_cal(phonons.frequency,Conductivity(phonons=phonons, method='rta').conductivity,phonons.n_phonons)\n",
        "kappa_sc_cum_freq = cumulative_cond_cal(phonons.frequency,Conductivity(phonons=phonons, method='sc',n_iterations=20).conductivity,phonons.n_phonons)\n",
        "kappa_inv_cum_freq = cumulative_cond_cal(phonons.frequency,Conductivity(phonons=phonons, method='inverse').conductivity,phonons.n_phonons)\n",
        "kappa_qhgk_cum_freq = cumulative_cond_cal(phonons.frequency,Conductivity(phonons=phonons, method='qhgk').conductivity,phonons.n_phonons)\n",
        "print('\\n')\n",
        "\n",
        "# Visualize the cumulative conductivity vs frequency\n",
        "plt.figure()\n",
        "plt.plot(freq_full,kappa_rta_per_mode,'r.',label='RTA')\n",
        "plt.plot(freq_full,kappa_sc_per_mode,'mo',label='Self Consistent',ms=8)\n",
        "plt.plot(freq_full,kappa_inv_per_mode,'k.',label='Direct Inversion')\n",
        "plt.xlabel (\"$\\\\nu$ (THz)\", fontsize=25, fontweight='bold')\n",
        "plt.ylabel(r'$\\kappa(W/m/K)$', fontsize=25, fontweight='bold')\n",
        "plt.legend(loc=1,frameon=False)\n",
        "#plt.grid()\n",
        "plt.show()\n",
        "print('\\n')\n",
        "\n",
        "# Visualize the cumulative conductivity vs frequency\n",
        "plt.figure()\n",
        "plt.plot(freq_full,kappa_rta_cum_freq,'r.',label='RTA')\n",
        "plt.plot(freq_full,kappa_sc_cum_freq,'mo',label='Self Consistent',ms=8)\n",
        "plt.plot(freq_full,kappa_inv_cum_freq,'k.',label='Direct Inversion')\n",
        "plt.xlabel (\"$\\\\nu$ (THz)\", fontsize=25, fontweight='bold')\n",
        "plt.ylabel(r'$\\kappa_{cum}(W/m/K)$', fontsize=25, fontweight='bold')\n",
        "plt.legend(loc=4,frameon=False)\n",
        "plt.grid()\n",
        "plt.show()"
      ],
      "metadata": {
        "colab": {
          "base_uri": "https://localhost:8080/",
          "height": 1000
        },
        "id": "HZSC-vLJCVI0",
        "outputId": "688f56e7-f53f-409c-abc0-5dcb0680e952"
      },
      "execution_count": 12,
      "outputs": [
        {
          "output_type": "stream",
          "name": "stdout",
          "text": [
            "2022-10-29 04:59:08,048 - kaldo - INFO - Loading si-bulk-ald-7_7_7/7_7_7/300/quantum/rta/conductivity\n"
          ]
        },
        {
          "output_type": "stream",
          "name": "stderr",
          "text": [
            "INFO:kaldo:Loading si-bulk-ald-7_7_7/7_7_7/300/quantum/rta/conductivity\n"
          ]
        },
        {
          "output_type": "stream",
          "name": "stdout",
          "text": [
            "2022-10-29 04:59:08,115 - kaldo - INFO - Loading si-bulk-ald-7_7_7/7_7_7/300/quantum/inverse/conductivity\n"
          ]
        },
        {
          "output_type": "stream",
          "name": "stderr",
          "text": [
            "INFO:kaldo:Loading si-bulk-ald-7_7_7/7_7_7/300/quantum/inverse/conductivity\n"
          ]
        },
        {
          "output_type": "stream",
          "name": "stdout",
          "text": [
            "2022-10-29 04:59:08,185 - kaldo - INFO - Loading si-bulk-ald-7_7_7/7_7_7/300/quantum/sc/conductivity\n"
          ]
        },
        {
          "output_type": "stream",
          "name": "stderr",
          "text": [
            "INFO:kaldo:Loading si-bulk-ald-7_7_7/7_7_7/300/quantum/sc/conductivity\n"
          ]
        },
        {
          "output_type": "stream",
          "name": "stdout",
          "text": [
            "2022-10-29 04:59:08,188 - kaldo - INFO - Loading si-bulk-ald-7_7_7/7_7_7/frequency\n"
          ]
        },
        {
          "output_type": "stream",
          "name": "stderr",
          "text": [
            "INFO:kaldo:Loading si-bulk-ald-7_7_7/7_7_7/frequency\n"
          ]
        },
        {
          "output_type": "stream",
          "name": "stdout",
          "text": [
            "2022-10-29 04:59:08,260 - kaldo - INFO - Loading si-bulk-ald-7_7_7/7_7_7/300/quantum/rta/conductivity\n"
          ]
        },
        {
          "output_type": "stream",
          "name": "stderr",
          "text": [
            "INFO:kaldo:Loading si-bulk-ald-7_7_7/7_7_7/300/quantum/rta/conductivity\n"
          ]
        },
        {
          "output_type": "stream",
          "name": "stdout",
          "text": [
            "2022-10-29 04:59:08,287 - kaldo - INFO - Loading si-bulk-ald-7_7_7/7_7_7/frequency\n"
          ]
        },
        {
          "output_type": "stream",
          "name": "stderr",
          "text": [
            "INFO:kaldo:Loading si-bulk-ald-7_7_7/7_7_7/frequency\n"
          ]
        },
        {
          "output_type": "stream",
          "name": "stdout",
          "text": [
            "2022-10-29 04:59:08,354 - kaldo - INFO - Loading si-bulk-ald-7_7_7/7_7_7/300/quantum/sc/conductivity\n"
          ]
        },
        {
          "output_type": "stream",
          "name": "stderr",
          "text": [
            "INFO:kaldo:Loading si-bulk-ald-7_7_7/7_7_7/300/quantum/sc/conductivity\n"
          ]
        },
        {
          "output_type": "stream",
          "name": "stdout",
          "text": [
            "2022-10-29 04:59:08,383 - kaldo - INFO - Loading si-bulk-ald-7_7_7/7_7_7/frequency\n"
          ]
        },
        {
          "output_type": "stream",
          "name": "stderr",
          "text": [
            "INFO:kaldo:Loading si-bulk-ald-7_7_7/7_7_7/frequency\n"
          ]
        },
        {
          "output_type": "stream",
          "name": "stdout",
          "text": [
            "2022-10-29 04:59:08,455 - kaldo - INFO - Loading si-bulk-ald-7_7_7/7_7_7/300/quantum/inverse/conductivity\n"
          ]
        },
        {
          "output_type": "stream",
          "name": "stderr",
          "text": [
            "INFO:kaldo:Loading si-bulk-ald-7_7_7/7_7_7/300/quantum/inverse/conductivity\n"
          ]
        },
        {
          "output_type": "stream",
          "name": "stdout",
          "text": [
            "2022-10-29 04:59:08,480 - kaldo - INFO - Loading si-bulk-ald-7_7_7/7_7_7/frequency\n"
          ]
        },
        {
          "output_type": "stream",
          "name": "stderr",
          "text": [
            "INFO:kaldo:Loading si-bulk-ald-7_7_7/7_7_7/frequency\n"
          ]
        },
        {
          "output_type": "stream",
          "name": "stdout",
          "text": [
            "2022-10-29 04:59:08,488 - kaldo - INFO - si-bulk-ald-7_7_7/7_7_7/300/quantum/qhgk/conductivity not found in formatted format, calculating conductivity\n"
          ]
        },
        {
          "output_type": "stream",
          "name": "stderr",
          "text": [
            "INFO:kaldo:si-bulk-ald-7_7_7/7_7_7/300/quantum/qhgk/conductivity not found in formatted format, calculating conductivity\n"
          ]
        },
        {
          "output_type": "stream",
          "name": "stdout",
          "text": [
            "2022-10-29 04:59:08,495 - kaldo - INFO - Loading si-bulk-ald-7_7_7/7_7_7/frequency\n"
          ]
        },
        {
          "output_type": "stream",
          "name": "stderr",
          "text": [
            "INFO:kaldo:Loading si-bulk-ald-7_7_7/7_7_7/frequency\n"
          ]
        },
        {
          "output_type": "stream",
          "name": "stdout",
          "text": [
            "2022-10-29 04:59:08,501 - kaldo - INFO - Loading si-bulk-ald-7_7_7/7_7_7/physical_mode\n"
          ]
        },
        {
          "output_type": "stream",
          "name": "stderr",
          "text": [
            "INFO:kaldo:Loading si-bulk-ald-7_7_7/7_7_7/physical_mode\n"
          ]
        },
        {
          "output_type": "stream",
          "name": "stdout",
          "text": [
            "2022-10-29 04:59:08,507 - kaldo - INFO - Using Lorentzian diffusivity_shape\n"
          ]
        },
        {
          "output_type": "stream",
          "name": "stderr",
          "text": [
            "INFO:kaldo:Using Lorentzian diffusivity_shape\n"
          ]
        },
        {
          "output_type": "stream",
          "name": "stdout",
          "text": [
            "2022-10-29 04:59:08,510 - kaldo - INFO - Loading si-bulk-ald-7_7_7/7_7_7/300/quantum/bandwidth\n"
          ]
        },
        {
          "output_type": "stream",
          "name": "stderr",
          "text": [
            "INFO:kaldo:Loading si-bulk-ald-7_7_7/7_7_7/300/quantum/bandwidth\n"
          ]
        },
        {
          "output_type": "stream",
          "name": "stdout",
          "text": [
            "2022-10-29 04:59:08,512 - kaldo - INFO - Start calculation diffusivity\n"
          ]
        },
        {
          "output_type": "stream",
          "name": "stderr",
          "text": [
            "INFO:kaldo:Start calculation diffusivity\n",
            "/usr/local/lib/python3.7/dist-packages/kaldo/controllers/dirac_kernel.py:26: RuntimeWarning: invalid value encountered in true_divide\n",
            "  lorentzian = 1 / np.pi * 1 / 2 * sigma / (delta_omega ** 2 + (sigma / 2) ** 2)\n"
          ]
        },
        {
          "output_type": "stream",
          "name": "stdout",
          "text": [
            "2022-10-29 04:59:17,257 - kaldo - INFO - Conductivity calculated\n"
          ]
        },
        {
          "output_type": "stream",
          "name": "stderr",
          "text": [
            "INFO:kaldo:Conductivity calculated\n"
          ]
        },
        {
          "output_type": "stream",
          "name": "stdout",
          "text": [
            "\n",
            "\n"
          ]
        },
        {
          "output_type": "display_data",
          "data": {
            "text/plain": [
              "<Figure size 921.6x633.6 with 1 Axes>"
            ],
            "image/png": "[encoded data removed]"
          },
          "metadata": {
            "needs_background": "light"
          }
        },
        {
          "output_type": "stream",
          "name": "stdout",
          "text": [
            "\n",
            "\n"
          ]
        },
        {
          "output_type": "display_data",
          "data": {
            "text/plain": [
              "<Figure size 921.6x633.6 with 1 Axes>"
            ],
            "image/png": "[encoded data removed]"
          },
          "metadata": {
            "needs_background": "light"
          }
        }
      ]
    }
  ]
}